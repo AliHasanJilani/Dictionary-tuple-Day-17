{
 "cells": [
  {
   "cell_type": "code",
   "execution_count": null,
   "id": "c7d39e12-362b-4c19-822a-9637f78ea6d4",
   "metadata": {},
   "outputs": [],
   "source": [
    "# list is mutuable datatype\n",
    "# ordered\n",
    "# it has index postion"
   ]
  },
  {
   "cell_type": "code",
   "execution_count": 7,
   "id": "dd2fc9d3-6be8-4da7-bb32-74b86a59aef7",
   "metadata": {},
   "outputs": [
    {
     "name": "stdout",
     "output_type": "stream",
     "text": [
      "second max 40\n"
     ]
    }
   ],
   "source": [
    "mylist=[10,20,30,40,6,3,42]\n",
    "max1=0\n",
    "max2=0\n",
    "\n",
    "for i in mylist:\n",
    "    if i>max1:\n",
    "        max2=max1\n",
    "        max1=i\n",
    "    elif i>max2:\n",
    "        max2=i\n",
    "\n",
    "print(\"second max\",max2)"
   ]
  },
  {
   "cell_type": "code",
   "execution_count": 35,
   "id": "ed9227b4-ec75-440a-a3d8-7b42699815ef",
   "metadata": {},
   "outputs": [
    {
     "name": "stdout",
     "output_type": "stream",
     "text": [
      "2 7\n"
     ]
    }
   ],
   "source": [
    "list1=[0,1,2,3,7,11,13]\n",
    "start=0\n",
    "end=len(list1)-1\n",
    "k=9\n",
    "\n",
    "while(True):\n",
    "    if list1[start]+list1[end]==k:\n",
    "        print(list1[start],list1[end])\n",
    "        break\n",
    "    elif list1[start]+list1[end]<k:\n",
    "        start+=1\n",
    "    else:\n",
    "        end-=1\n",
    "\n"
   ]
  },
  {
   "cell_type": "code",
   "execution_count": 126,
   "id": "65ba0651-486c-4bc2-beb4-051a94af6fba",
   "metadata": {},
   "outputs": [
    {
     "name": "stdout",
     "output_type": "stream",
     "text": [
      "['APPLE', 'BANANA', 'CHERRY']\n"
     ]
    }
   ],
   "source": [
    "list1=[\"apple\",\"banana\",\"cherry\"]\n",
    "\n",
    "uppercase=[item.upper() for item in list1]\n",
    "print(uppercase)\n"
   ]
  },
  {
   "cell_type": "code",
   "execution_count": 88,
   "id": "14576c3e-89ce-4752-9f2a-d036e5a17059",
   "metadata": {},
   "outputs": [],
   "source": [
    "# mylist=[]\n",
    "# for i in range(0,5):\n",
    "#     templist=[]\n",
    "#     for j in range(0,i+1):\n",
    "#         if j==0 or j==i:\n",
    "#             templist.append(1)\n",
    "#         else:\n",
    "#             templist.append(mylist[i-1][j-1] + mylist[i-1][j])\n",
    "#         mylist.append(templist)\n",
    "\n",
    "# print(mylist)"
   ]
  },
  {
   "cell_type": "code",
   "execution_count": 104,
   "id": "b8e4bda6-da08-4a5f-a6d4-dbc145e5e33e",
   "metadata": {},
   "outputs": [
    {
     "name": "stdout",
     "output_type": "stream",
     "text": [
      "(1, 2, 3, 4, 'hey')\n"
     ]
    }
   ],
   "source": [
    "#tuple\n",
    "#tuple => immutable\n",
    "tuple1=(1,2,3,4,\"hey\")\n",
    "tuple1.count\n",
    "tuple1.index\n",
    "print(tuple1)"
   ]
  },
  {
   "cell_type": "code",
   "execution_count": 108,
   "id": "3f6e1cad-c389-47ba-acda-a6a84943df88",
   "metadata": {},
   "outputs": [],
   "source": [
    "# dictionary datatype\n",
    "# key and value\n",
    "# key => unique (identifier)\n",
    "# value => duplicate or unquie\n",
    "# {}\n",
    "# mutuable datatype\n",
    "# no index postion\n",
    "# ordered"
   ]
  },
  {
   "cell_type": "code",
   "execution_count": 112,
   "id": "4ba8cf4c-5ba7-4a70-8b85-563c1b0c2845",
   "metadata": {},
   "outputs": [
    {
     "name": "stdout",
     "output_type": "stream",
     "text": [
      "{1: 'ali', 2: 'aman'}\n"
     ]
    },
    {
     "data": {
      "text/plain": [
       "2"
      ]
     },
     "execution_count": 112,
     "metadata": {},
     "output_type": "execute_result"
    }
   ],
   "source": [
    "mydict={1:\"ali\",2:\"aman\"}\n",
    "print(mydict)\n",
    "len(mydict)"
   ]
  },
  {
   "cell_type": "code",
   "execution_count": 128,
   "id": "bfb42883-99fb-45e3-ac4f-ef2c244df556",
   "metadata": {},
   "outputs": [
    {
     "name": "stdout",
     "output_type": "stream",
     "text": [
      "{1: 'ali', 2: 'aman', 'city': 'jaipur'}\n"
     ]
    },
    {
     "data": {
      "text/plain": [
       "3"
      ]
     },
     "execution_count": 128,
     "metadata": {},
     "output_type": "execute_result"
    }
   ],
   "source": [
    "dict1={1:\"ali\",2:\"aman\",\"city\":\"jaipur\"}\n",
    "print(dict1)\n",
    "len(dict1)"
   ]
  },
  {
   "cell_type": "code",
   "execution_count": 138,
   "id": "5543772f-a43b-40ad-a336-aaf1fdf3e323",
   "metadata": {},
   "outputs": [
    {
     "name": "stdout",
     "output_type": "stream",
     "text": [
      "{1: 'ali', 2: 'akshay', 'city': 'jaipur', 4: 'yash'}\n"
     ]
    }
   ],
   "source": [
    "dict1={1:\"ali\",2:\"aman\",\"city\":\"jaipur\"}\n",
    "dict1[2]=\"akshay\"   #update\n",
    "dict1[4]=\"yash\"\n",
    "print(dict1)"
   ]
  },
  {
   "cell_type": "code",
   "execution_count": 140,
   "id": "b185fd10-b0aa-43cf-b159-4aeaccbf2a4d",
   "metadata": {},
   "outputs": [
    {
     "name": "stdout",
     "output_type": "stream",
     "text": [
      "Help on dict object:\n",
      "\n",
      "class dict(object)\n",
      " |  dict() -> new empty dictionary\n",
      " |  dict(mapping) -> new dictionary initialized from a mapping object's\n",
      " |      (key, value) pairs\n",
      " |  dict(iterable) -> new dictionary initialized as if via:\n",
      " |      d = {}\n",
      " |      for k, v in iterable:\n",
      " |          d[k] = v\n",
      " |  dict(**kwargs) -> new dictionary initialized with the name=value pairs\n",
      " |      in the keyword argument list.  For example:  dict(one=1, two=2)\n",
      " |\n",
      " |  Built-in subclasses:\n",
      " |      StgDict\n",
      " |\n",
      " |  Methods defined here:\n",
      " |\n",
      " |  __contains__(self, key, /)\n",
      " |      True if the dictionary has the specified key, else False.\n",
      " |\n",
      " |  __delitem__(self, key, /)\n",
      " |      Delete self[key].\n",
      " |\n",
      " |  __eq__(self, value, /)\n",
      " |      Return self==value.\n",
      " |\n",
      " |  __ge__(self, value, /)\n",
      " |      Return self>=value.\n",
      " |\n",
      " |  __getattribute__(self, name, /)\n",
      " |      Return getattr(self, name).\n",
      " |\n",
      " |  __getitem__(self, key, /)\n",
      " |      Return self[key].\n",
      " |\n",
      " |  __gt__(self, value, /)\n",
      " |      Return self>value.\n",
      " |\n",
      " |  __init__(self, /, *args, **kwargs)\n",
      " |      Initialize self.  See help(type(self)) for accurate signature.\n",
      " |\n",
      " |  __ior__(self, value, /)\n",
      " |      Return self|=value.\n",
      " |\n",
      " |  __iter__(self, /)\n",
      " |      Implement iter(self).\n",
      " |\n",
      " |  __le__(self, value, /)\n",
      " |      Return self<=value.\n",
      " |\n",
      " |  __len__(self, /)\n",
      " |      Return len(self).\n",
      " |\n",
      " |  __lt__(self, value, /)\n",
      " |      Return self<value.\n",
      " |\n",
      " |  __ne__(self, value, /)\n",
      " |      Return self!=value.\n",
      " |\n",
      " |  __or__(self, value, /)\n",
      " |      Return self|value.\n",
      " |\n",
      " |  __repr__(self, /)\n",
      " |      Return repr(self).\n",
      " |\n",
      " |  __reversed__(self, /)\n",
      " |      Return a reverse iterator over the dict keys.\n",
      " |\n",
      " |  __ror__(self, value, /)\n",
      " |      Return value|self.\n",
      " |\n",
      " |  __setitem__(self, key, value, /)\n",
      " |      Set self[key] to value.\n",
      " |\n",
      " |  __sizeof__(...)\n",
      " |      D.__sizeof__() -> size of D in memory, in bytes\n",
      " |\n",
      " |  clear(...)\n",
      " |      D.clear() -> None.  Remove all items from D.\n",
      " |\n",
      " |  copy(...)\n",
      " |      D.copy() -> a shallow copy of D\n",
      " |\n",
      " |  get(self, key, default=None, /)\n",
      " |      Return the value for key if key is in the dictionary, else default.\n",
      " |\n",
      " |  items(...)\n",
      " |      D.items() -> a set-like object providing a view on D's items\n",
      " |\n",
      " |  keys(...)\n",
      " |      D.keys() -> a set-like object providing a view on D's keys\n",
      " |\n",
      " |  pop(...)\n",
      " |      D.pop(k[,d]) -> v, remove specified key and return the corresponding value.\n",
      " |\n",
      " |      If the key is not found, return the default if given; otherwise,\n",
      " |      raise a KeyError.\n",
      " |\n",
      " |  popitem(self, /)\n",
      " |      Remove and return a (key, value) pair as a 2-tuple.\n",
      " |\n",
      " |      Pairs are returned in LIFO (last-in, first-out) order.\n",
      " |      Raises KeyError if the dict is empty.\n",
      " |\n",
      " |  setdefault(self, key, default=None, /)\n",
      " |      Insert key with a value of default if key is not in the dictionary.\n",
      " |\n",
      " |      Return the value for key if key is in the dictionary, else default.\n",
      " |\n",
      " |  update(...)\n",
      " |      D.update([E, ]**F) -> None.  Update D from dict/iterable E and F.\n",
      " |      If E is present and has a .keys() method, then does:  for k in E: D[k] = E[k]\n",
      " |      If E is present and lacks a .keys() method, then does:  for k, v in E: D[k] = v\n",
      " |      In either case, this is followed by: for k in F:  D[k] = F[k]\n",
      " |\n",
      " |  values(...)\n",
      " |      D.values() -> an object providing a view on D's values\n",
      " |\n",
      " |  ----------------------------------------------------------------------\n",
      " |  Class methods defined here:\n",
      " |\n",
      " |  __class_getitem__(...)\n",
      " |      See PEP 585\n",
      " |\n",
      " |  fromkeys(iterable, value=None, /)\n",
      " |      Create a new dictionary with keys from iterable and values set to value.\n",
      " |\n",
      " |  ----------------------------------------------------------------------\n",
      " |  Static methods defined here:\n",
      " |\n",
      " |  __new__(*args, **kwargs)\n",
      " |      Create and return a new object.  See help(type) for accurate signature.\n",
      " |\n",
      " |  ----------------------------------------------------------------------\n",
      " |  Data and other attributes defined here:\n",
      " |\n",
      " |  __hash__ = None\n",
      "\n"
     ]
    }
   ],
   "source": [
    "dict1={1:\"ali\",2:\"aman\",\"city\":\"jaipur\"}\n",
    "\n",
    "help(dict1)"
   ]
  },
  {
   "cell_type": "code",
   "execution_count": 142,
   "id": "a98ed725-d55e-4ac0-9ec4-c9d73a87a7a7",
   "metadata": {},
   "outputs": [
    {
     "name": "stdout",
     "output_type": "stream",
     "text": [
      "1 ali\n",
      "2 aman\n",
      "city jaipur\n"
     ]
    }
   ],
   "source": [
    "dict1={1:\"ali\",2:\"aman\",\"city\":\"jaipur\"}\n",
    "\n",
    "for i in dict1:\n",
    "    print(i,dict1[i])"
   ]
  },
  {
   "cell_type": "code",
   "execution_count": 146,
   "id": "39569f6f-f289-4cf7-97d3-0954918c8f17",
   "metadata": {},
   "outputs": [
    {
     "name": "stdout",
     "output_type": "stream",
     "text": [
      "(1, 'ali')\n",
      "(2, 'aman')\n",
      "('city', 'jaipur')\n"
     ]
    }
   ],
   "source": [
    "dict1={1:\"ali\",2:\"aman\",\"city\":\"jaipur\"}\n",
    "\n",
    "for i in dict1.items():\n",
    "    print(i,)"
   ]
  },
  {
   "cell_type": "code",
   "execution_count": 148,
   "id": "2a3e1056-74a7-48e4-9803-ec8b93089765",
   "metadata": {},
   "outputs": [
    {
     "name": "stdout",
     "output_type": "stream",
     "text": [
      "10 20\n"
     ]
    }
   ],
   "source": [
    "x=(10,20)\n",
    "a=x[0]\n",
    "b=x[1]\n",
    "print(a,b)"
   ]
  },
  {
   "cell_type": "code",
   "execution_count": 152,
   "id": "4bd79ad5-891f-4a96-9af1-314cbcf6d267",
   "metadata": {},
   "outputs": [
    {
     "name": "stdout",
     "output_type": "stream",
     "text": [
      "10 20\n"
     ]
    }
   ],
   "source": [
    "x=(10,20)\n",
    "a,b=x     #tuple unpacking\n",
    "print(a,b)"
   ]
  },
  {
   "cell_type": "code",
   "execution_count": 154,
   "id": "9331afb0-5a8b-430c-9273-e283cdb9999a",
   "metadata": {},
   "outputs": [
    {
     "name": "stdout",
     "output_type": "stream",
     "text": [
      "{'x': 100}\n"
     ]
    }
   ],
   "source": [
    "mydict={\"x\":100}\n",
    "mydict[\"x\"]=mydict[]+50\n",
    "print(mydict)"
   ]
  },
  {
   "cell_type": "code",
   "execution_count": null,
   "id": "2e8ae3de-3fde-4bae-a96f-0f432a0c2364",
   "metadata": {},
   "outputs": [],
   "source": []
  }
 ],
 "metadata": {
  "kernelspec": {
   "display_name": "Python [conda env:base] *",
   "language": "python",
   "name": "conda-base-py"
  },
  "language_info": {
   "codemirror_mode": {
    "name": "ipython",
    "version": 3
   },
   "file_extension": ".py",
   "mimetype": "text/x-python",
   "name": "python",
   "nbconvert_exporter": "python",
   "pygments_lexer": "ipython3",
   "version": "3.12.7"
  }
 },
 "nbformat": 4,
 "nbformat_minor": 5
}
